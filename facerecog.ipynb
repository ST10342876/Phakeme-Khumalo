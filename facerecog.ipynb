{
  "nbformat": 4,
  "nbformat_minor": 0,
  "metadata": {
    "colab": {
      "provenance": []
    },
    "kernelspec": {
      "name": "python3",
      "display_name": "Python 3"
    },
    "language_info": {
      "name": "python"
    }
  },
  "cells": [
    {
      "cell_type": "code",
      "source": [
        "import cv2\n",
        "import numpy as np\n",
        "import pandas as pd"
      ],
      "metadata": {
        "id": "cPKfLAlEsgPt"
      },
      "execution_count": 11,
      "outputs": []
    },
    {
      "cell_type": "code",
      "source": [
        "from sklearn.neighbors import KNeighborsClassifier"
      ],
      "metadata": {
        "id": "CLAENkKWu0S9"
      },
      "execution_count": 21,
      "outputs": []
    },
    {
      "cell_type": "code",
      "source": [
        "class KNN:\n",
        "\n",
        "  return predictions"
      ],
      "metadata": {
        "id": "qU7aIksUvtAU"
      },
      "execution_count": null,
      "outputs": []
    },
    {
      "cell_type": "code",
      "source": [
        "def fit(self, x_train, y_train):\n",
        "        self.X_train = x_train\n",
        "        self.Y_train = y_train"
      ],
      "metadata": {
        "id": "IzpMd-b-tm0F"
      },
      "execution_count": 27,
      "outputs": []
    },
    {
      "cell_type": "code",
      "source": [
        "def predict(self, X_test):\n",
        "        predictions = []\n",
        "        for x_test in X_test:\n",
        "            distances = np.linalg.norm(self.X_train - x_test, axis=1)\n",
        "            k_indices = distances.argsort()[:self.K]\n",
        "            k_labels = self.Y_train[k_indices]\n",
        "            predictions.append(np.bincount(k_labels).argmax())\n",
        "        return predictions"
      ],
      "metadata": {
        "id": "_72KiFxWtqjV"
      },
      "execution_count": 26,
      "outputs": []
    },
    {
      "cell_type": "markdown",
      "source": [
        "# Load the face data"
      ],
      "metadata": {
        "id": "QWIhC8-KtzKr"
      }
    },
    {
      "cell_type": "code",
      "source": [
        "data = pd.read_csv('/content/face_data.csv').values\n",
        "X, Y = data[:, :-1], data[:, -1]"
      ],
      "metadata": {
        "id": "QN_ureoPt0FH"
      },
      "execution_count": 28,
      "outputs": []
    },
    {
      "cell_type": "markdown",
      "source": [
        "# Train the KNN model"
      ],
      "metadata": {
        "id": "J0XbJKEeuLbG"
      }
    },
    {
      "cell_type": "code",
      "source": [
        "model = KNN (K=5)\n",
        "model.fit(X, Y)"
      ],
      "metadata": {
        "id": "SU2Mb1zduN9E"
      },
      "execution_count": null,
      "outputs": []
    },
    {
      "cell_type": "code",
      "source": [
        "cap = cv2.VideoCapture(0)\n",
        "classifier = cv2.CascadeClassifier(\"haarcascade_frontalface_default.xml\")"
      ],
      "metadata": {
        "id": "vw8LiaAZwHYz"
      },
      "execution_count": 33,
      "outputs": []
    },
    {
      "cell_type": "code",
      "source": [
        "while True:\n",
        "    ret, frame = cap.read()\n",
        "    gray = cv2.cvtColor(frame, cv2.COLOR_BGR2GRAY)\n",
        "    faces = classifier.detectMultiScale(gray, 1.5, 5)\n",
        "    X_test = []\n"
      ],
      "metadata": {
        "id": "0cRTIEbGwLdj"
      },
      "execution_count": null,
      "outputs": []
    },
    {
      "cell_type": "code",
      "source": [
        "for (x, y, w, h) in faces:\n",
        "        im_face = gray[y:y + h, x:x + w]\n",
        "        im_face = cv2.resize(im_face, (80, 80)).reshape(1, -1)\n",
        "        X_test.append(im_face)"
      ],
      "metadata": {
        "id": "UyP1Q7piwcni"
      },
      "execution_count": null,
      "outputs": []
    },
    {
      "cell_type": "code",
      "source": [
        "if len(faces) > 0:\n",
        "        response = model.predict(np.array(X_test))\n",
        "        for i, (x, y, w, h) in enumerate(faces):\n",
        "            cv2.rectangle(frame, (x, y), (x + w, y + h), (255, 0, 0), 3)\n",
        "            cv2.putText(frame, response[i], (x, y - 10), cv2.FONT_HERSHEY_SIMPLEX, 1, (0, 255, 0), 2)"
      ],
      "metadata": {
        "id": "xpdiT6mjwnIY"
      },
      "execution_count": null,
      "outputs": []
    }
  ]
}