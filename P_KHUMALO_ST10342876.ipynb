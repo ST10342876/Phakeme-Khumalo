{
  "nbformat": 4,
  "nbformat_minor": 0,
  "metadata": {
    "colab": {
      "provenance": []
    },
    "kernelspec": {
      "name": "python3",
      "display_name": "Python 3"
    },
    "language_info": {
      "name": "python"
    }
  },
  "cells": [
    {
      "cell_type": "code",
      "source": [
        "import pandas as pd\n",
        "import numpy as np\n",
        "import os"
      ],
      "metadata": {
        "id": "cPKfLAlEsgPt"
      },
      "execution_count": 8,
      "outputs": []
    },
    {
      "cell_type": "code",
      "source": [
        "f_name = \"face_data.csv\""
      ],
      "metadata": {
        "id": "sqjOuPY2skmq"
      },
      "execution_count": 9,
      "outputs": []
    },
    {
      "cell_type": "code",
      "source": [
        "def write(name, data):\n",
        "    if os.path.isfile(f_name):\n",
        "        df = pd.read_csv(f_name, index_col=0)\n",
        "        new_data = pd.DataFrame(data, columns=map(str, range(data.shape[1])))\n",
        "        new_data[\"name\"] = name\n",
        "        df = pd.concat([df, new_data], ignore_index=True)\n",
        "    else:\n",
        "        df = pd.DataFrame(data, columns=map(str, range(data.shape[1])))\n",
        "        df[\"name\"] = name\n",
        "    df.to_csv(f_name)"
      ],
      "metadata": {
        "id": "51qsTav6swHC"
      },
      "execution_count": 10,
      "outputs": []
    }
  ]
}